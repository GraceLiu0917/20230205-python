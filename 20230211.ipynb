{
  "nbformat": 4,
  "nbformat_minor": 0,
  "metadata": {
    "colab": {
      "provenance": [],
      "authorship_tag": "ABX9TyP46ahdHaY6tflKBkdVKAnX",
      "include_colab_link": true
    },
    "kernelspec": {
      "name": "python3",
      "display_name": "Python 3"
    },
    "language_info": {
      "name": "python"
    }
  },
  "cells": [
    {
      "cell_type": "markdown",
      "metadata": {
        "id": "view-in-github",
        "colab_type": "text"
      },
      "source": [
        "<a href=\"https://colab.research.google.com/github/GraceLiu0917/20230205-python/blob/main/20230211.ipynb\" target=\"_parent\"><img src=\"https://colab.research.google.com/assets/colab-badge.svg\" alt=\"Open In Colab\"/></a>"
      ]
    },
    {
      "cell_type": "markdown",
      "source": [
        "# 20230211筆記\n"
      ],
      "metadata": {
        "id": "1UdU1vc4MVLa"
      }
    },
    {
      "cell_type": "markdown",
      "source": [
        "#基本資料型態\n",
        "\n",
        "* int(整數)\n",
        "* float(浮點數)\n",
        "* bool(布林變數)\n",
        "* str(字串:文字訊息)\n",
        "\n",
        "使用type(變數)可以檢查變數裡面的資料型態"
      ],
      "metadata": {
        "id": "pfCh8ixXUGWy"
      }
    },
    {
      "cell_type": "markdown",
      "source": [
        "## 整數除法(//)\n",
        "\n"
      ],
      "metadata": {
        "id": "W7Er8UbHU0ch"
      }
    },
    {
      "cell_type": "code",
      "execution_count": 30,
      "metadata": {
        "id": "TCBkJRrHMRD2"
      },
      "outputs": [],
      "source": [
        "x=1"
      ]
    },
    {
      "cell_type": "code",
      "source": [
        "type(x)"
      ],
      "metadata": {
        "colab": {
          "base_uri": "https://localhost:8080/"
        },
        "id": "O1WjQtj3cO6h",
        "outputId": "0da7c1ac-fbf3-45c5-a510-529c04db7298"
      },
      "execution_count": 31,
      "outputs": [
        {
          "output_type": "execute_result",
          "data": {
            "text/plain": [
              "int"
            ]
          },
          "metadata": {},
          "execution_count": 31
        }
      ]
    },
    {
      "cell_type": "code",
      "source": [
        "y=4/2"
      ],
      "metadata": {
        "id": "P-lplY5YcSys"
      },
      "execution_count": 32,
      "outputs": []
    },
    {
      "cell_type": "code",
      "source": [
        "type(y)"
      ],
      "metadata": {
        "colab": {
          "base_uri": "https://localhost:8080/"
        },
        "id": "XXv8H2P_cWuF",
        "outputId": "2808a544-c97d-4fd1-f344-f77f5a7e2a2d"
      },
      "execution_count": 33,
      "outputs": [
        {
          "output_type": "execute_result",
          "data": {
            "text/plain": [
              "float"
            ]
          },
          "metadata": {},
          "execution_count": 33
        }
      ]
    },
    {
      "cell_type": "code",
      "source": [
        "y"
      ],
      "metadata": {
        "colab": {
          "base_uri": "https://localhost:8080/"
        },
        "id": "-o0bbsbgcbeN",
        "outputId": "7cfbd7ee-55f0-4cf8-f1ac-e2d68f22f7c3"
      },
      "execution_count": 34,
      "outputs": [
        {
          "output_type": "execute_result",
          "data": {
            "text/plain": [
              "2.0"
            ]
          },
          "metadata": {},
          "execution_count": 34
        }
      ]
    },
    {
      "cell_type": "code",
      "source": [
        "z=4//2"
      ],
      "metadata": {
        "id": "rC3v4xCjceCX"
      },
      "execution_count": 35,
      "outputs": []
    },
    {
      "cell_type": "code",
      "source": [
        "type(z)"
      ],
      "metadata": {
        "colab": {
          "base_uri": "https://localhost:8080/"
        },
        "id": "kRpJwPclcgdd",
        "outputId": "2f3eb429-b409-4c4a-f014-ba7e4ecceb43"
      },
      "execution_count": 36,
      "outputs": [
        {
          "output_type": "execute_result",
          "data": {
            "text/plain": [
              "int"
            ]
          },
          "metadata": {},
          "execution_count": 36
        }
      ]
    },
    {
      "cell_type": "markdown",
      "source": [
        "## 次方(**)"
      ],
      "metadata": {
        "id": "k_eWv3p3XMF4"
      }
    },
    {
      "cell_type": "code",
      "source": [
        "2**2"
      ],
      "metadata": {
        "colab": {
          "base_uri": "https://localhost:8080/"
        },
        "id": "hjqXrrDiXP4-",
        "outputId": "08ac3889-390c-4753-88b2-54b1e53bedb6"
      },
      "execution_count": 16,
      "outputs": [
        {
          "output_type": "execute_result",
          "data": {
            "text/plain": [
              "4"
            ]
          },
          "metadata": {},
          "execution_count": 16
        }
      ]
    },
    {
      "cell_type": "code",
      "source": [
        "2**4"
      ],
      "metadata": {
        "colab": {
          "base_uri": "https://localhost:8080/"
        },
        "id": "nj5xPHW4XSNc",
        "outputId": "cc440e2c-8a2e-4f98-a276-6f3bef733da3"
      },
      "execution_count": 17,
      "outputs": [
        {
          "output_type": "execute_result",
          "data": {
            "text/plain": [
              "16"
            ]
          },
          "metadata": {},
          "execution_count": 17
        }
      ]
    },
    {
      "cell_type": "markdown",
      "source": [
        "## 什麼是bool?"
      ],
      "metadata": {
        "id": "kUP4NruCXbcN"
      }
    },
    {
      "cell_type": "code",
      "source": [
        "3>2"
      ],
      "metadata": {
        "colab": {
          "base_uri": "https://localhost:8080/"
        },
        "id": "Ula-Ga18XgOq",
        "outputId": "15a02e73-613e-4780-ad19-3d5360e9dc4e"
      },
      "execution_count": 18,
      "outputs": [
        {
          "output_type": "execute_result",
          "data": {
            "text/plain": [
              "True"
            ]
          },
          "metadata": {},
          "execution_count": 18
        }
      ]
    },
    {
      "cell_type": "code",
      "source": [
        "True +True"
      ],
      "metadata": {
        "colab": {
          "base_uri": "https://localhost:8080/"
        },
        "id": "G6g9XxwNXwuh",
        "outputId": "25bc0395-80a0-407a-fd21-8d4fe612f65f"
      },
      "execution_count": 19,
      "outputs": [
        {
          "output_type": "execute_result",
          "data": {
            "text/plain": [
              "2"
            ]
          },
          "metadata": {},
          "execution_count": 19
        }
      ]
    },
    {
      "cell_type": "code",
      "source": [
        "True+False"
      ],
      "metadata": {
        "colab": {
          "base_uri": "https://localhost:8080/"
        },
        "id": "WX_ikNmLYFp3",
        "outputId": "b462321d-8646-46c7-9bb8-246c10f1c23a"
      },
      "execution_count": 20,
      "outputs": [
        {
          "output_type": "execute_result",
          "data": {
            "text/plain": [
              "1"
            ]
          },
          "metadata": {},
          "execution_count": 20
        }
      ]
    },
    {
      "cell_type": "code",
      "source": [
        "#兩個變數內的值有沒有相等\n",
        "x==z"
      ],
      "metadata": {
        "colab": {
          "base_uri": "https://localhost:8080/"
        },
        "id": "HgWGIy3qcmVB",
        "outputId": "86f086df-e9f7-486d-f350-275d80fa940f"
      },
      "execution_count": 37,
      "outputs": [
        {
          "output_type": "execute_result",
          "data": {
            "text/plain": [
              "False"
            ]
          },
          "metadata": {},
          "execution_count": 37
        }
      ]
    },
    {
      "cell_type": "markdown",
      "source": [
        "#關於字串\n",
        "https://github.com/vcdemy/python_basics/blob/main/%E5%AD%97%E4%B8%B2.md\n",
        "\n"
      ],
      "metadata": {
        "id": "q7N78IqNZDJh"
      }
    },
    {
      "cell_type": "code",
      "source": [
        "w=\"dog\""
      ],
      "metadata": {
        "id": "u6DDkBC4ZIeJ"
      },
      "execution_count": 23,
      "outputs": []
    },
    {
      "cell_type": "code",
      "source": [
        "u=\"It's my dog\""
      ],
      "metadata": {
        "id": "eGPZme_SZpvo"
      },
      "execution_count": 26,
      "outputs": []
    },
    {
      "cell_type": "code",
      "source": [
        "# 使用跳脫字元(Escape character)\n",
        "v='It\\'s my dog'"
      ],
      "metadata": {
        "id": "4_0XH50iaIuB"
      },
      "execution_count": 27,
      "outputs": []
    },
    {
      "cell_type": "markdown",
      "source": [
        "##字串的加法(+)加法(+)跟乘法(*)"
      ],
      "metadata": {
        "id": "PMb_txAafTou"
      }
    },
    {
      "cell_type": "code",
      "source": [
        "\"abc\"+\"3\""
      ],
      "metadata": {
        "colab": {
          "base_uri": "https://localhost:8080/",
          "height": 36
        },
        "id": "D9B5ccQSfZx9",
        "outputId": "d459ec5e-1a1e-4315-d1fc-b5e02afab8a8"
      },
      "execution_count": 38,
      "outputs": [
        {
          "output_type": "execute_result",
          "data": {
            "text/plain": [
              "'abc3'"
            ],
            "application/vnd.google.colaboratory.intrinsic+json": {
              "type": "string"
            }
          },
          "metadata": {},
          "execution_count": 38
        }
      ]
    },
    {
      "cell_type": "code",
      "source": [
        "\"abc\"*3"
      ],
      "metadata": {
        "colab": {
          "base_uri": "https://localhost:8080/",
          "height": 36
        },
        "id": "NRaetPQLflFg",
        "outputId": "f60778fe-3d68-4070-f018-7b8a834f3d96"
      },
      "execution_count": 39,
      "outputs": [
        {
          "output_type": "execute_result",
          "data": {
            "text/plain": [
              "'abcabcabc'"
            ],
            "application/vnd.google.colaboratory.intrinsic+json": {
              "type": "string"
            }
          },
          "metadata": {},
          "execution_count": 39
        }
      ]
    },
    {
      "cell_type": "markdown",
      "source": [
        "##練習:(使用字串畫出底下的金字塔)\n",
        "\n",
        "\n",
        "---\n",
        "    \n",
        "\n"
      ],
      "metadata": {
        "id": "_rQFoN5lfsdL"
      }
    },
    {
      "cell_type": "code",
      "source": [
        "for i in range(5):\n",
        " print(i)\n",
        " 0\n",
        " 1\n",
        " 2\n",
        " 3\n",
        " 4"
      ],
      "metadata": {
        "colab": {
          "base_uri": "https://localhost:8080/"
        },
        "id": "65AX0ostgUNl",
        "outputId": "5e6a51e8-e41c-4ec7-e955-57311d6a867b"
      },
      "execution_count": 44,
      "outputs": [
        {
          "output_type": "stream",
          "name": "stdout",
          "text": [
            "0\n",
            "1\n",
            "2\n",
            "3\n",
            "4\n"
          ]
        }
      ]
    },
    {
      "cell_type": "code",
      "source": [
        "for i in range(3):\n",
        " print(\"程式區塊開始\")"
      ],
      "metadata": {
        "id": "u-qd7iK_hWQH"
      },
      "execution_count": null,
      "outputs": []
    },
    {
      "cell_type": "code",
      "source": [
        "for i in range(5):\n",
        " print((2*i+1)*'*')"
      ],
      "metadata": {
        "colab": {
          "base_uri": "https://localhost:8080/"
        },
        "id": "8bkE_dEtht0I",
        "outputId": "46d948cf-c041-4db3-cd44-dc9b05756d16"
      },
      "execution_count": 47,
      "outputs": [
        {
          "output_type": "stream",
          "name": "stdout",
          "text": [
            "*\n",
            "***\n",
            "*****\n",
            "*******\n",
            "*********\n"
          ]
        }
      ]
    },
    {
      "cell_type": "code",
      "source": [
        "for i in range(5):\n",
        " print((5-i)*' '+(2*i+1)*'*')"
      ],
      "metadata": {
        "colab": {
          "base_uri": "https://localhost:8080/"
        },
        "id": "3svnGY0xibus",
        "outputId": "5606d08d-d15b-46db-baf9-0a56626f9ae3"
      },
      "execution_count": 63,
      "outputs": [
        {
          "output_type": "stream",
          "name": "stdout",
          "text": [
            "     *\n",
            "    ***\n",
            "   *****\n",
            "  *******\n",
            " *********\n"
          ]
        }
      ]
    },
    {
      "cell_type": "markdown",
      "source": [
        "#input()及print()\n",
        "input():用來讀取輸入\n",
        "\n",
        "print():用來打印輸入"
      ],
      "metadata": {
        "id": "dQEFL8Pjk5km"
      }
    },
    {
      "cell_type": "code",
      "source": [
        "x=input(\"請輸入一個數字:\")\n",
        "\n"
      ],
      "metadata": {
        "colab": {
          "base_uri": "https://localhost:8080/"
        },
        "id": "MZqYxnOqlAIZ",
        "outputId": "7af7e051-d899-440d-b19a-4fea3506179d"
      },
      "execution_count": 65,
      "outputs": [
        {
          "name": "stdout",
          "output_type": "stream",
          "text": [
            "請輸入一個數字:100\n"
          ]
        }
      ]
    },
    {
      "cell_type": "code",
      "source": [
        "type(x)"
      ],
      "metadata": {
        "colab": {
          "base_uri": "https://localhost:8080/"
        },
        "id": "iDO110JrlYHP",
        "outputId": "b1543f9f-8ce0-408f-dbff-73995e247cf6"
      },
      "execution_count": 66,
      "outputs": [
        {
          "output_type": "execute_result",
          "data": {
            "text/plain": [
              "str"
            ]
          },
          "metadata": {},
          "execution_count": 66
        }
      ]
    },
    {
      "cell_type": "code",
      "source": [
        "print(x)"
      ],
      "metadata": {
        "colab": {
          "base_uri": "https://localhost:8080/"
        },
        "id": "rvzxw2-UlsiR",
        "outputId": "63842c25-2e3a-477e-a0a4-02a44b10e25f"
      },
      "execution_count": 67,
      "outputs": [
        {
          "output_type": "stream",
          "name": "stdout",
          "text": [
            "100\n"
          ]
        }
      ]
    },
    {
      "cell_type": "code",
      "source": [
        "x=1\n",
        "y=2\n",
        "z=3\n",
        "print(x,y,z)"
      ],
      "metadata": {
        "colab": {
          "base_uri": "https://localhost:8080/"
        },
        "id": "rFaPrDjclwXC",
        "outputId": "881feb98-b352-47fe-c856-4649529755b9"
      },
      "execution_count": 68,
      "outputs": [
        {
          "output_type": "stream",
          "name": "stdout",
          "text": [
            "1 2 3\n"
          ]
        }
      ]
    },
    {
      "cell_type": "code",
      "source": [
        "x=1\n",
        "y=2\n",
        "z=3\n",
        "print(x,y,z,sep=\"+\")"
      ],
      "metadata": {
        "colab": {
          "base_uri": "https://localhost:8080/"
        },
        "id": "odGEHxqal-PN",
        "outputId": "b359925e-f939-42bc-9772-4ad65d0e63a4"
      },
      "execution_count": 71,
      "outputs": [
        {
          "output_type": "stream",
          "name": "stdout",
          "text": [
            "1+2+3\n"
          ]
        }
      ]
    },
    {
      "cell_type": "code",
      "source": [
        "x=1\n",
        "y=2\n",
        "z=3\n",
        "print(x,y,z,sep=\"\")"
      ],
      "metadata": {
        "colab": {
          "base_uri": "https://localhost:8080/"
        },
        "id": "UEfgJhsymIgr",
        "outputId": "619561ee-2692-4eb0-b617-3cd45c8111c8"
      },
      "execution_count": 72,
      "outputs": [
        {
          "output_type": "stream",
          "name": "stdout",
          "text": [
            "123\n"
          ]
        }
      ]
    },
    {
      "cell_type": "markdown",
      "source": [
        "#基礎容器型別\n",
        " *list(串列)\n",
        " *tuple(元組)\n",
        " *dict(字典)\n",
        " *set(集合)"
      ],
      "metadata": {
        "id": "lhucQMRZnyE4"
      }
    }
  ]
}